{
 "cells": [
  {
   "cell_type": "markdown",
   "metadata": {},
   "source": [
    "# Simple Linear Regression\n",
    "\n",
    "We want to know how to make our chocolate-bar customers happier. To do this, we need to know which chocolate bar _features_ predict customer happiness. For example, customers may be happier when chocolate bars are bigger, or when they contain more cocoa or more sugar. \n",
    "\n",
    "We have data on customer happiness when eating chocolate bars with different features. Lets look at the relationship between happiness and bar size."
   ]
  },
  {
   "cell_type": "code",
   "execution_count": 2,
   "metadata": {},
   "outputs": [],
   "source": [
    "%matplotlib inline\n",
    "import matplotlib.pyplot as plt\n",
    "import numpy as np\n",
    "import pandas as pd\n",
    "import warnings\n",
    "warnings.filterwarnings(\"ignore\")\n",
    "\n",
    "from sklearn import datasets, linear_model\n",
    "from sklearn.model_selection import train_test_split\n",
    "from sklearn.linear_model import LinearRegression\n",
    "from sklearn.metrics import accuracy_score"
   ]
  },
  {
   "cell_type": "code",
   "execution_count": 14,
   "metadata": {},
   "outputs": [
    {
     "data": {
      "text/plain": [
       "(100, 5)"
      ]
     },
     "execution_count": 14,
     "metadata": {},
     "output_type": "execute_result"
    }
   ],
   "source": [
    "train=pd.read_csv(\"chocolatedata.txt\", index_col=False, sep=\"\\t\",header=0)\n",
    "train.shape"
   ]
  },
  {
   "cell_type": "code",
   "execution_count": 15,
   "metadata": {},
   "outputs": [
    {
     "data": {
      "text/html": [
       "<div>\n",
       "<style scoped>\n",
       "    .dataframe tbody tr th:only-of-type {\n",
       "        vertical-align: middle;\n",
       "    }\n",
       "\n",
       "    .dataframe tbody tr th {\n",
       "        vertical-align: top;\n",
       "    }\n",
       "\n",
       "    .dataframe thead th {\n",
       "        text-align: right;\n",
       "    }\n",
       "</style>\n",
       "<table border=\"1\" class=\"dataframe\">\n",
       "  <thead>\n",
       "    <tr style=\"text-align: right;\">\n",
       "      <th></th>\n",
       "      <th>weight</th>\n",
       "      <th>cocoa_percent</th>\n",
       "      <th>sugar_percent</th>\n",
       "      <th>milk_percent</th>\n",
       "      <th>customer_happiness</th>\n",
       "    </tr>\n",
       "  </thead>\n",
       "  <tbody>\n",
       "    <tr>\n",
       "      <th>0</th>\n",
       "      <td>185</td>\n",
       "      <td>65</td>\n",
       "      <td>11</td>\n",
       "      <td>24</td>\n",
       "      <td>47</td>\n",
       "    </tr>\n",
       "    <tr>\n",
       "      <th>1</th>\n",
       "      <td>247</td>\n",
       "      <td>44</td>\n",
       "      <td>34</td>\n",
       "      <td>22</td>\n",
       "      <td>55</td>\n",
       "    </tr>\n",
       "    <tr>\n",
       "      <th>2</th>\n",
       "      <td>133</td>\n",
       "      <td>33</td>\n",
       "      <td>21</td>\n",
       "      <td>47</td>\n",
       "      <td>35</td>\n",
       "    </tr>\n",
       "    <tr>\n",
       "      <th>3</th>\n",
       "      <td>145</td>\n",
       "      <td>30</td>\n",
       "      <td>38</td>\n",
       "      <td>32</td>\n",
       "      <td>34</td>\n",
       "    </tr>\n",
       "    <tr>\n",
       "      <th>4</th>\n",
       "      <td>110</td>\n",
       "      <td>22</td>\n",
       "      <td>70</td>\n",
       "      <td>7</td>\n",
       "      <td>40</td>\n",
       "    </tr>\n",
       "  </tbody>\n",
       "</table>\n",
       "</div>"
      ],
      "text/plain": [
       "   weight  cocoa_percent  sugar_percent  milk_percent  customer_happiness\n",
       "0     185             65             11            24                  47\n",
       "1     247             44             34            22                  55\n",
       "2     133             33             21            47                  35\n",
       "3     145             30             38            32                  34\n",
       "4     110             22             70             7                  40"
      ]
     },
     "execution_count": 15,
     "metadata": {},
     "output_type": "execute_result"
    }
   ],
   "source": [
    "train.head()"
   ]
  },
  {
   "cell_type": "markdown",
   "metadata": {},
   "source": [
    "## Splitting the data into Train and Test"
   ]
  },
  {
   "cell_type": "code",
   "execution_count": 4,
   "metadata": {},
   "outputs": [],
   "source": [
    "x = np.array(train.customer_happiness).reshape(-1, 1)\n",
    "y = np.array(train.cocoa_percent)"
   ]
  },
  {
   "cell_type": "code",
   "execution_count": 5,
   "metadata": {},
   "outputs": [],
   "source": [
    "#Splitting the data into Train and Test\n",
    "x_train, x_test, y_train, y_test = train_test_split(x, y, test_size=0.30, random_state=5)"
   ]
  },
  {
   "cell_type": "markdown",
   "metadata": {},
   "source": [
    "## Train the model using training dataset"
   ]
  },
  {
   "cell_type": "code",
   "execution_count": 6,
   "metadata": {},
   "outputs": [],
   "source": [
    "regression = LinearRegression()\n",
    "chocmodel = regression.fit(x_train, y_train)"
   ]
  },
  {
   "cell_type": "code",
   "execution_count": 7,
   "metadata": {},
   "outputs": [
    {
     "data": {
      "text/plain": [
       "LinearRegression()"
      ]
     },
     "execution_count": 7,
     "metadata": {},
     "output_type": "execute_result"
    }
   ],
   "source": [
    "# Model is trained\n",
    "chocmodel"
   ]
  },
  {
   "cell_type": "markdown",
   "metadata": {},
   "source": [
    "### Predicting customer happiness using test dataset"
   ]
  },
  {
   "cell_type": "code",
   "execution_count": 8,
   "metadata": {},
   "outputs": [
    {
     "name": "stdout",
     "output_type": "stream",
     "text": [
      "[37.61347434 53.43672638 24.1637101  36.82231173 49.48091337 39.19579954\n",
      " 22.58138489 29.70184831 26.5371979  36.03114913 20.20789708 27.3283605\n",
      " 45.52510036 36.03114913 32.86649872 42.36044995 17.04324667 46.31626296\n",
      " 25.7460353  29.70184831 37.61347434 25.7460353  43.94277515 28.91068571\n",
      " 26.5371979  42.36044995 32.86649872 54.22788898 13.87859626 30.49301091]\n"
     ]
    }
   ],
   "source": [
    "y_pred = chocmodel.predict(x_test)\n",
    "print(y_pred)"
   ]
  },
  {
   "cell_type": "code",
   "execution_count": 9,
   "metadata": {},
   "outputs": [
    {
     "data": {
      "text/plain": [
       "array([18, 47, 12, 48, 19, 64, 13, 30, 49, 61, 35, 76, 32, 17, 13, 39,  0,\n",
       "       30, 41, 42, 46, 15, 39, 24, 44, 12, 50, 19, 31, 35, 46, 36, 42, 33,\n",
       "       26, 35, 24, 40, 22, 65, 11, 25, 34, 44, 79, 34,  8, 43,  5,  3,  2,\n",
       "       21, 37,  0,  4, 53, 48, 39, 28, 45,  9, 12, 43, 71, 45, 24, 57, 41,\n",
       "       90, 88], dtype=int64)"
      ]
     },
     "execution_count": 9,
     "metadata": {},
     "output_type": "execute_result"
    }
   ],
   "source": [
    "y_train"
   ]
  },
  {
   "cell_type": "markdown",
   "metadata": {},
   "source": [
    "## TO DO 1: Check if heavier chocolate bars (weight) make people happier"
   ]
  },
  {
   "cell_type": "code",
   "execution_count": null,
   "metadata": {},
   "outputs": [],
   "source": []
  },
  {
   "cell_type": "markdown",
   "metadata": {},
   "source": [
    "## TO DO 2: Check if more sugar (sugar_percent) make people happier"
   ]
  },
  {
   "cell_type": "code",
   "execution_count": null,
   "metadata": {},
   "outputs": [],
   "source": []
  },
  {
   "cell_type": "markdown",
   "metadata": {},
   "source": [
    "## TO DO 3: Explore the code below and research what it does"
   ]
  },
  {
   "cell_type": "markdown",
   "metadata": {},
   "source": [
    "## Visualizing the training Test Results "
   ]
  },
  {
   "cell_type": "code",
   "execution_count": 10,
   "metadata": {},
   "outputs": [
    {
     "data": {
      "image/png": "[encoded data removed]",
      "text/plain": [
       "<Figure size 432x288 with 1 Axes>"
      ]
     },
     "metadata": {
      "needs_background": "light"
     },
     "output_type": "display_data"
    }
   ],
   "source": [
    "plt.scatter(x_train, y_train, color= 'red')\n",
    "plt.plot(x_train, chocmodel.predict(x_train), color = 'blue')\n",
    "plt.title (\"Visuals for Training Dataset\")\n",
    "plt.xlabel(\"Customer Happiness\")\n",
    "plt.ylabel(\"Cocoa percent\")\n",
    "plt.show()"
   ]
  },
  {
   "cell_type": "markdown",
   "metadata": {},
   "source": [
    "## Visualizing the Test Results "
   ]
  },
  {
   "cell_type": "code",
   "execution_count": 11,
   "metadata": {},
   "outputs": [
    {
     "data": {
      "image/png": "[encoded data removed]",
      "text/plain": [
       "<Figure size 432x288 with 1 Axes>"
      ]
     },
     "metadata": {
      "needs_background": "light"
     },
     "output_type": "display_data"
    }
   ],
   "source": [
    "plt.scatter(x_test, y_test, color= 'red')\n",
    "plt.plot(x_test, chocmodel.predict(x_test), color = 'blue')\n",
    "plt.title (\"Visuals for Training Dataset\")\n",
    "plt.xlabel(\"Customer Happiness\")\n",
    "plt.ylabel(\"Cocoa percent\")\n",
    "plt.show()"
   ]
  },
  {
   "cell_type": "code",
   "execution_count": 12,
   "metadata": {},
   "outputs": [
    {
     "name": "stdout",
     "output_type": "stream",
     "text": [
      "Performance of Linear regressor:\n",
      "Mean absolute error = 14.53\n",
      "Mean squared error = 365.28\n",
      "Median absolute error = 9.65\n",
      "Explain variance score = 0.05\n",
      "R2 score = 0.05\n"
     ]
    }
   ],
   "source": [
    "from sklearn import metrics\n",
    "print(\"Performance of Linear regressor:\")\n",
    "print(\"Mean absolute error =\", round(metrics.mean_absolute_error(y_test, y_pred), 2))\n",
    "print(\"Mean squared error =\", round(metrics.mean_squared_error(y_test, y_pred), 2))\n",
    "print(\"Median absolute error =\", round(metrics.median_absolute_error(y_test, y_pred), 2))\n",
    "print(\"Explain variance score =\", round(metrics.explained_variance_score(y_test, y_pred),2))\n",
    "print(\"R2 score =\", round(metrics.r2_score(y_test, y_pred), 2))"
   ]
  },
  {
   "cell_type": "code",
   "execution_count": 13,
   "metadata": {},
   "outputs": [
    {
     "data": {
      "text/plain": [
       "array([37.61347434, 53.43672638, 24.1637101 , 36.82231173, 49.48091337,\n",
       "       39.19579954, 22.58138489, 29.70184831, 26.5371979 , 36.03114913,\n",
       "       20.20789708, 27.3283605 , 45.52510036, 36.03114913, 32.86649872,\n",
       "       42.36044995, 17.04324667, 46.31626296, 25.7460353 , 29.70184831,\n",
       "       37.61347434, 25.7460353 , 43.94277515, 28.91068571, 26.5371979 ,\n",
       "       42.36044995, 32.86649872, 54.22788898, 13.87859626, 30.49301091])"
      ]
     },
     "execution_count": 13,
     "metadata": {},
     "output_type": "execute_result"
    }
   ],
   "source": [
    "chocmodel.predict(x_test)"
   ]
  },
  {
   "cell_type": "code",
   "execution_count": 14,
   "metadata": {},
   "outputs": [
    {
     "data": {
      "text/plain": [
       "5.175807638545493"
      ]
     },
     "execution_count": 14,
     "metadata": {},
     "output_type": "execute_result"
    }
   ],
   "source": [
    "chocmodel.score(x_test, y_test)\n",
    "chocmodel.coef_\n",
    "chocmodel.intercept_"
   ]
  },
  {
   "cell_type": "code",
   "execution_count": 15,
   "metadata": {},
   "outputs": [
    {
     "data": {
      "image/png": "[encoded data removed]",
      "text/plain": [
       "<Figure size 432x288 with 1 Axes>"
      ]
     },
     "metadata": {
      "needs_background": "light"
     },
     "output_type": "display_data"
    }
   ],
   "source": [
    "plt.scatter(x_test, y_test, color= 'red')\n",
    "plt.plot(x_test, chocmodel.predict(x_test), color = 'blue')\n",
    "plt.title (\"Visuals for Training Dataset\")\n",
    "plt.xlabel(\"Customer Happiness\")\n",
    "plt.ylabel(\"Cocoa percent\")\n",
    "plt.show()"
   ]
  },
  {
   "cell_type": "code",
   "execution_count": null,
   "metadata": {},
   "outputs": [],
   "source": []
  }
 ],
 "metadata": {
  "kernelspec": {
   "display_name": "Python 3 (ipykernel)",
   "language": "python",
   "name": "python3"
  },
  "language_info": {
   "codemirror_mode": {
    "name": "ipython",
    "version": 3
   },
   "file_extension": ".py",
   "mimetype": "text/x-python",
   "name": "python",
   "nbconvert_exporter": "python",
   "pygments_lexer": "ipython3",
   "version": "3.9.12"
  }
 },
 "nbformat": 4,
 "nbformat_minor": 4
}
